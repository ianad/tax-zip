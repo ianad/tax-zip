{
 "cells": [
  {
   "cell_type": "code",
   "execution_count": 39,
   "metadata": {},
   "outputs": [],
   "source": [
    "import os\n",
    "import pandas as pd\n",
    "import numpy as np\n",
    "import seaborn as sns"
   ]
  },
  {
   "cell_type": "code",
   "execution_count": 8,
   "metadata": {},
   "outputs": [],
   "source": [
    "data_dir=os.path.abspath('data')\n",
    "data_path=os.path.join(data_dir,'clean-zip-data.csv')"
   ]
  },
  {
   "cell_type": "code",
   "execution_count": 9,
   "metadata": {},
   "outputs": [],
   "source": [
    "data = pd.read_csv(data_path)"
   ]
  },
  {
   "cell_type": "code",
   "execution_count": 11,
   "metadata": {},
   "outputs": [],
   "source": [
    "data['average-dependents'] = data['number-of-dependents'] / data['number-of-returns']"
   ]
  },
  {
   "cell_type": "code",
   "execution_count": 19,
   "metadata": {},
   "outputs": [],
   "source": [
    "dependents_breakdown = data.groupby(['state','size-of-adjusted-gross-income']).mean()['average-dependents']"
   ]
  },
  {
   "cell_type": "code",
   "execution_count": 35,
   "metadata": {
    "collapsed": true
   },
   "outputs": [
    {
     "data": {
      "text/plain": [
       "state  size-of-adjusted-gross-income\n",
       "AK     1                                0.241629\n",
       "       2                                0.540256\n",
       "       3                                0.702653\n",
       "       4                                0.705956\n",
       "       5                                0.828463\n",
       "       6                                0.662213\n",
       "AL     1                                0.626672\n",
       "       2                                0.768255\n",
       "       3                                0.749239\n",
       "       4                                0.785117\n",
       "       5                                0.843817\n",
       "       6                                0.753495\n",
       "AR     1                                0.574472\n",
       "       2                                0.798162\n",
       "       3                                0.778453\n",
       "       4                                0.778022\n",
       "       5                                0.748462\n",
       "       6                                0.723351\n",
       "AZ     1                                0.498077\n",
       "       2                                0.752673\n",
       "       3                                0.768588\n",
       "       4                                0.788408\n",
       "       5                                0.806522\n",
       "       6                                0.781227\n",
       "CA     1                                0.454926\n",
       "       2                                0.781589\n",
       "       3                                0.794702\n",
       "       4                                0.761805\n",
       "       5                                0.838467\n",
       "       6                                0.816431\n",
       "                                          ...   \n",
       "VT     1                                0.244287\n",
       "       2                                0.439571\n",
       "       3                                0.596519\n",
       "       4                                0.622182\n",
       "       5                                0.651934\n",
       "       6                                0.649190\n",
       "WA     1                                0.356620\n",
       "       2                                0.663182\n",
       "       3                                0.732480\n",
       "       4                                0.727767\n",
       "       5                                0.775911\n",
       "       6                                0.770322\n",
       "WI     1                                0.270970\n",
       "       2                                0.515765\n",
       "       3                                0.640250\n",
       "       4                                0.768029\n",
       "       5                                0.899154\n",
       "       6                                0.857773\n",
       "WV     1                                0.457113\n",
       "       2                                0.672318\n",
       "       3                                0.753739\n",
       "       4                                0.825276\n",
       "       5                                0.855616\n",
       "       6                                0.766461\n",
       "WY     1                                0.272216\n",
       "       2                                0.628423\n",
       "       3                                0.804276\n",
       "       4                                0.806805\n",
       "       5                                0.851833\n",
       "       6                                0.753097\n",
       "Name: average-dependents, Length: 306, dtype: float64"
      ]
     },
     "execution_count": 35,
     "metadata": {},
     "output_type": "execute_result"
    }
   ],
   "source": [
    "dependents_breakdown"
   ]
  },
  {
   "cell_type": "code",
   "execution_count": 64,
   "metadata": {},
   "outputs": [],
   "source": [
    "dependents_FL=dependents_breakdown['FL']"
   ]
  },
  {
   "cell_type": "code",
   "execution_count": 72,
   "metadata": {},
   "outputs": [],
   "source": [
    "dependents_FL = pd.DataFrame(dependents_FL).reset_index()"
   ]
  },
  {
   "cell_type": "code",
   "execution_count": 77,
   "metadata": {},
   "outputs": [
    {
     "data": {
      "image/png": "[encoded data removed]",
      "text/plain": [
       "<matplotlib.figure.Figure at 0x17cb42902b0>"
      ]
     },
     "metadata": {},
     "output_type": "display_data"
    }
   ],
   "source": [
    "sns.set_style('whitegrid')\n",
    "ax = sns.barplot(data=dependents_FL, x='size-of-adjusted-gross-income', y='average-dependents')"
   ]
  },
  {
   "cell_type": "code",
   "execution_count": 81,
   "metadata": {},
   "outputs": [],
   "source": [
    "def dependents_for(ST):\n",
    "    local_avg_dependents = pd.DataFrame(dependents_breakdown[ST]).reset_index()\n",
    "    ax = sns.barplot(data=local_avg_dependents,\n",
    "                    x='size-of-adjusted-gross-income',\n",
    "                    y='average-dependents')"
   ]
  },
  {
   "cell_type": "code",
   "execution_count": 87,
   "metadata": {},
   "outputs": [
    {
     "data": {
      "image/png": "[encoded data removed]",
      "text/plain": [
       "<matplotlib.figure.Figure at 0x17cb44526d8>"
      ]
     },
     "metadata": {},
     "output_type": "display_data"
    }
   ],
   "source": [
    "dependents_for('TX')"
   ]
  }
 ],
 "metadata": {
  "kernelspec": {
   "display_name": "Python 3",
   "language": "python",
   "name": "python3"
  },
  "language_info": {
   "codemirror_mode": {
    "name": "ipython",
    "version": 3
   },
   "file_extension": ".py",
   "mimetype": "text/x-python",
   "name": "python",
   "nbconvert_exporter": "python",
   "pygments_lexer": "ipython3",
   "version": "3.6.4"
  }
 },
 "nbformat": 4,
 "nbformat_minor": 2
}
